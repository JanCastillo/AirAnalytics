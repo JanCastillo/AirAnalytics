{
 "cells": [
  {
   "cell_type": "code",
   "execution_count": 1,
   "metadata": {},
   "outputs": [],
   "source": [
    "from bs4 import BeautifulSoup as bs\n",
    "import requests\n",
    "from splinter import Browser\n",
    "import pandas as pd\n",
    "import numpy as np"
   ]
  },
  {
   "cell_type": "code",
   "execution_count": 2,
   "metadata": {},
   "outputs": [],
   "source": [
    "executable_path = {'executable_path': 'chromedriver.exe'}\n",
    "browser = Browser('chrome', **executable_path, headless=False)"
   ]
  },
  {
   "cell_type": "code",
   "execution_count": 3,
   "metadata": {},
   "outputs": [
    {
     "name": "stdout",
     "output_type": "stream",
     "text": [
      "Ingresa código del aeropuerto de origen: MEX\n",
      "Ingresa código del aeropuerto destino: CUN\n"
     ]
    }
   ],
   "source": [
    "origen = input(\"Ingresa código del aeropuerto de origen: \")\n",
    "destino = input(\"Ingresa código del aeropuerto destino: \")"
   ]
  },
  {
   "cell_type": "code",
   "execution_count": 4,
   "metadata": {},
   "outputs": [
    {
     "name": "stdout",
     "output_type": "stream",
     "text": [
      "Ingresa fecha de salida YY-MM-DD: 2019-11-15\n"
     ]
    }
   ],
   "source": [
    "fecha_salida = input(\"Ingresa fecha de salida YY-MM-DD: \")"
   ]
  },
  {
   "cell_type": "code",
   "execution_count": 5,
   "metadata": {},
   "outputs": [],
   "source": [
    "amx_url = f\"https://aeromexico.com/es-mx/reserva/opciones?itinerary={origen}_{destino}_{fecha_salida}&leg=1&travelers=A1_C0_I0_PH0_PC0\""
   ]
  },
  {
   "cell_type": "code",
   "execution_count": 6,
   "metadata": {},
   "outputs": [],
   "source": [
    "browser.visit(amx_url)"
   ]
  },
  {
   "cell_type": "code",
   "execution_count": 7,
   "metadata": {},
   "outputs": [],
   "source": [
    "#SOLO EJECUTAR ESTE PASO SI SE REINICIA EL KERNEL\n",
    "browser.find_by_xpath(\"/html/body/div[2]/div/div/div[1]/div/div[1]/div/div/button\").click()"
   ]
  },
  {
   "cell_type": "code",
   "execution_count": 8,
   "metadata": {},
   "outputs": [],
   "source": [
    "amx_site = browser.html"
   ]
  },
  {
   "cell_type": "code",
   "execution_count": 9,
   "metadata": {},
   "outputs": [],
   "source": [
    "amx_soup = bs(amx_site, 'html.parser')"
   ]
  },
  {
   "cell_type": "code",
   "execution_count": 10,
   "metadata": {},
   "outputs": [],
   "source": [
    "amx_data = amx_soup.find_all('div', class_=\"FlightOptionsListItem\")"
   ]
  },
  {
   "cell_type": "code",
   "execution_count": 11,
   "metadata": {},
   "outputs": [],
   "source": [
    "#      'div', class_='FlightOptionsFare-price'      para precios\n",
    "#      'div', class_='FlightOptionsTimeline-time'   para hora de salida y llegada\n",
    "#      'div', class_='FlightOptionsTimeline-city'   para origen y destino"
   ]
  },
  {
   "cell_type": "code",
   "execution_count": 12,
   "metadata": {},
   "outputs": [],
   "source": [
    "precios = []\n",
    "origenes = []\n",
    "destinos = []\n",
    "salidas = []\n",
    "llegadas = []\n",
    "\n",
    "for tr in amx_data:\n",
    "    precio = tr.find('div', class_='FlightOptionsFare-price')\n",
    "    origen = tr.find_all('div', class_='FlightOptionsTimeline-city')\n",
    "    horario = tr.find_all('div', class_='FlightOptionsTimeline-time')\n",
    "    try:\n",
    "        precios.append(precio.span.text)\n",
    "        origenes.append(origen[0].text)\n",
    "        destinos.append(origen[1].text)\n",
    "        salidas.append(horario[0])\n",
    "        llegadas.append(horario[1])\n",
    "    except:\n",
    "        continue"
   ]
  },
  {
   "cell_type": "code",
   "execution_count": 13,
   "metadata": {},
   "outputs": [],
   "source": [
    "salidas2 = []\n",
    "\n",
    "for x in salidas:\n",
    "    try:\n",
    "        salidas2.append(x.text)\n",
    "    except:\n",
    "        continue"
   ]
  },
  {
   "cell_type": "code",
   "execution_count": 14,
   "metadata": {},
   "outputs": [],
   "source": [
    "llegadas2 = []\n",
    "\n",
    "for x in llegadas:\n",
    "    try:\n",
    "        llegadas2.append(x.text)\n",
    "    except:\n",
    "        continue"
   ]
  },
  {
   "cell_type": "code",
   "execution_count": 15,
   "metadata": {},
   "outputs": [
    {
     "data": {
      "text/html": [
       "<div>\n",
       "<style scoped>\n",
       "    .dataframe tbody tr th:only-of-type {\n",
       "        vertical-align: middle;\n",
       "    }\n",
       "\n",
       "    .dataframe tbody tr th {\n",
       "        vertical-align: top;\n",
       "    }\n",
       "\n",
       "    .dataframe thead th {\n",
       "        text-align: right;\n",
       "    }\n",
       "</style>\n",
       "<table border=\"1\" class=\"dataframe\">\n",
       "  <thead>\n",
       "    <tr style=\"text-align: right;\">\n",
       "      <th></th>\n",
       "      <th>Origen</th>\n",
       "      <th>Destino</th>\n",
       "      <th>Hora Salida</th>\n",
       "      <th>Hora Llegada</th>\n",
       "      <th>Desde</th>\n",
       "    </tr>\n",
       "  </thead>\n",
       "  <tbody>\n",
       "    <tr>\n",
       "      <th>0</th>\n",
       "      <td>MEX</td>\n",
       "      <td>CUN</td>\n",
       "      <td>06:30</td>\n",
       "      <td>10:05</td>\n",
       "      <td>$7991</td>\n",
       "    </tr>\n",
       "    <tr>\n",
       "      <th>1</th>\n",
       "      <td>MEX</td>\n",
       "      <td>CUN</td>\n",
       "      <td>07:30</td>\n",
       "      <td>11:04</td>\n",
       "      <td>$5172</td>\n",
       "    </tr>\n",
       "    <tr>\n",
       "      <th>2</th>\n",
       "      <td>MEX</td>\n",
       "      <td>CUN</td>\n",
       "      <td>08:00</td>\n",
       "      <td>11:34</td>\n",
       "      <td>$4476</td>\n",
       "    </tr>\n",
       "    <tr>\n",
       "      <th>3</th>\n",
       "      <td>MEX</td>\n",
       "      <td>CUN</td>\n",
       "      <td>09:25</td>\n",
       "      <td>13:04</td>\n",
       "      <td>$6042</td>\n",
       "    </tr>\n",
       "    <tr>\n",
       "      <th>4</th>\n",
       "      <td>MEX</td>\n",
       "      <td>CUN</td>\n",
       "      <td>10:35</td>\n",
       "      <td>14:05</td>\n",
       "      <td>$4476</td>\n",
       "    </tr>\n",
       "    <tr>\n",
       "      <th>5</th>\n",
       "      <td>MEX</td>\n",
       "      <td>CUN</td>\n",
       "      <td>11:30</td>\n",
       "      <td>14:55</td>\n",
       "      <td>$4128</td>\n",
       "    </tr>\n",
       "    <tr>\n",
       "      <th>6</th>\n",
       "      <td>MEX</td>\n",
       "      <td>CUN</td>\n",
       "      <td>12:25</td>\n",
       "      <td>15:50</td>\n",
       "      <td>$3606</td>\n",
       "    </tr>\n",
       "    <tr>\n",
       "      <th>7</th>\n",
       "      <td>MEX</td>\n",
       "      <td>CUN</td>\n",
       "      <td>13:30</td>\n",
       "      <td>17:00</td>\n",
       "      <td>$3374</td>\n",
       "    </tr>\n",
       "    <tr>\n",
       "      <th>8</th>\n",
       "      <td>MEX</td>\n",
       "      <td>CUN</td>\n",
       "      <td>14:40</td>\n",
       "      <td>18:05</td>\n",
       "      <td>$3374</td>\n",
       "    </tr>\n",
       "    <tr>\n",
       "      <th>9</th>\n",
       "      <td>MEX</td>\n",
       "      <td>CUN</td>\n",
       "      <td>15:30</td>\n",
       "      <td>19:00</td>\n",
       "      <td>$3838</td>\n",
       "    </tr>\n",
       "    <tr>\n",
       "      <th>10</th>\n",
       "      <td>MEX</td>\n",
       "      <td>CUN</td>\n",
       "      <td>18:30</td>\n",
       "      <td>22:00</td>\n",
       "      <td>$4476</td>\n",
       "    </tr>\n",
       "    <tr>\n",
       "      <th>11</th>\n",
       "      <td>MEX</td>\n",
       "      <td>CUN</td>\n",
       "      <td>19:30</td>\n",
       "      <td>23:00</td>\n",
       "      <td>$3374</td>\n",
       "    </tr>\n",
       "    <tr>\n",
       "      <th>12</th>\n",
       "      <td>MEX</td>\n",
       "      <td>CUN</td>\n",
       "      <td>21:35</td>\n",
       "      <td>00:55</td>\n",
       "      <td>$3374</td>\n",
       "    </tr>\n",
       "    <tr>\n",
       "      <th>13</th>\n",
       "      <td>MEX</td>\n",
       "      <td>CUN</td>\n",
       "      <td>17:30</td>\n",
       "      <td>20:55</td>\n",
       "      <td>$4824</td>\n",
       "    </tr>\n",
       "    <tr>\n",
       "      <th>14</th>\n",
       "      <td>MEX</td>\n",
       "      <td>CUN</td>\n",
       "      <td>19:05</td>\n",
       "      <td>22:30</td>\n",
       "      <td>$3606</td>\n",
       "    </tr>\n",
       "    <tr>\n",
       "      <th>15</th>\n",
       "      <td>MEX</td>\n",
       "      <td>CUN</td>\n",
       "      <td>15:00</td>\n",
       "      <td>20:55</td>\n",
       "      <td>$8193</td>\n",
       "    </tr>\n",
       "    <tr>\n",
       "      <th>16</th>\n",
       "      <td>MEX</td>\n",
       "      <td>CUN</td>\n",
       "      <td>14:00</td>\n",
       "      <td>20:55</td>\n",
       "      <td>$8193</td>\n",
       "    </tr>\n",
       "    <tr>\n",
       "      <th>17</th>\n",
       "      <td>MEX</td>\n",
       "      <td>CUN</td>\n",
       "      <td>13:00</td>\n",
       "      <td>20:55</td>\n",
       "      <td>$10,921</td>\n",
       "    </tr>\n",
       "    <tr>\n",
       "      <th>18</th>\n",
       "      <td>MEX</td>\n",
       "      <td>CUN</td>\n",
       "      <td>22:00</td>\n",
       "      <td>14:20</td>\n",
       "      <td>$9877</td>\n",
       "    </tr>\n",
       "    <tr>\n",
       "      <th>19</th>\n",
       "      <td>MEX</td>\n",
       "      <td>CUN</td>\n",
       "      <td>21:00</td>\n",
       "      <td>14:20</td>\n",
       "      <td>$8193</td>\n",
       "    </tr>\n",
       "    <tr>\n",
       "      <th>20</th>\n",
       "      <td>MEX</td>\n",
       "      <td>CUN</td>\n",
       "      <td>20:00</td>\n",
       "      <td>14:20</td>\n",
       "      <td>$10,921</td>\n",
       "    </tr>\n",
       "  </tbody>\n",
       "</table>\n",
       "</div>"
      ],
      "text/plain": [
       "   Origen Destino Hora Salida Hora Llegada    Desde\n",
       "0     MEX     CUN       06:30        10:05    $7991\n",
       "1     MEX     CUN       07:30        11:04    $5172\n",
       "2     MEX     CUN       08:00        11:34    $4476\n",
       "3     MEX     CUN       09:25        13:04    $6042\n",
       "4     MEX     CUN       10:35        14:05    $4476\n",
       "5     MEX     CUN       11:30        14:55    $4128\n",
       "6     MEX     CUN       12:25        15:50    $3606\n",
       "7     MEX     CUN       13:30        17:00    $3374\n",
       "8     MEX     CUN       14:40        18:05    $3374\n",
       "9     MEX     CUN       15:30        19:00    $3838\n",
       "10    MEX     CUN       18:30        22:00    $4476\n",
       "11    MEX     CUN       19:30        23:00    $3374\n",
       "12    MEX     CUN       21:35        00:55    $3374\n",
       "13    MEX     CUN       17:30        20:55    $4824\n",
       "14    MEX     CUN       19:05        22:30    $3606\n",
       "15    MEX     CUN       15:00        20:55    $8193\n",
       "16    MEX     CUN       14:00        20:55    $8193\n",
       "17    MEX     CUN       13:00        20:55  $10,921\n",
       "18    MEX     CUN       22:00        14:20    $9877\n",
       "19    MEX     CUN       21:00        14:20    $8193\n",
       "20    MEX     CUN       20:00        14:20  $10,921"
      ]
     },
     "execution_count": 15,
     "metadata": {},
     "output_type": "execute_result"
    }
   ],
   "source": [
    "df = pd.DataFrame({\n",
    "\"Origen\": origenes,\n",
    "\"Destino\": destinos,\n",
    "\"Hora Salida\": salidas2,\n",
    "\"Hora Llegada\": llegadas2,\n",
    "\"Desde\": precios \n",
    "})\n",
    "df"
   ]
  },
  {
   "cell_type": "code",
   "execution_count": null,
   "metadata": {},
   "outputs": [],
   "source": []
  }
 ],
 "metadata": {
  "kernelspec": {
   "display_name": "Python 3",
   "language": "python",
   "name": "python3"
  },
  "language_info": {
   "codemirror_mode": {
    "name": "ipython",
    "version": 3
   },
   "file_extension": ".py",
   "mimetype": "text/x-python",
   "name": "python",
   "nbconvert_exporter": "python",
   "pygments_lexer": "ipython3",
   "version": "3.6.8"
  }
 },
 "nbformat": 4,
 "nbformat_minor": 2
}
