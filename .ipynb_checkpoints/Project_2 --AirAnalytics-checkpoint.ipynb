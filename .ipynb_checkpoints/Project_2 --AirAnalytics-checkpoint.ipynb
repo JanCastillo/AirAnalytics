{
 "cells": [
  {
   "cell_type": "code",
   "execution_count": 1,
   "metadata": {},
   "outputs": [],
   "source": [
    "from bs4 import BeautifulSoup as bs\n",
    "import requests\n",
    "from splinter import Browser\n",
    "import pandas as pd\n",
    "import numpy as np\n",
    "import time\n",
    "import re\n",
    "from ast import literal_eval"
   ]
  },
  {
   "cell_type": "code",
   "execution_count": 2,
   "metadata": {},
   "outputs": [],
   "source": [
    "executable_path = {'executable_path': 'chromedriver.exe'}\n",
    "browser = Browser('chrome', **executable_path, headless=False)"
   ]
  },
  {
   "cell_type": "code",
   "execution_count": 3,
   "metadata": {},
   "outputs": [
    {
     "name": "stdout",
     "output_type": "stream",
     "text": [
      "https://aeromexico.com/es-mx/reserva/opciones?itinerary=MEX_CUN_2019-11-15&leg=1&travelers=A1_C0_I0_PH0_PC0\n",
      "https://aeromexico.com/es-mx/reserva/opciones?itinerary=MEX_HAV_2019-11-15&leg=1&travelers=A1_C0_I0_PH0_PC0\n",
      "https://aeromexico.com/es-mx/reserva/opciones?itinerary=MEX_ORD_2019-11-15&leg=1&travelers=A1_C0_I0_PH0_PC0\n",
      "https://aeromexico.com/es-mx/reserva/opciones?itinerary=MEX_JFK_2019-11-15&leg=1&travelers=A1_C0_I0_PH0_PC0\n",
      "https://aeromexico.com/es-mx/reserva/opciones?itinerary=MEX_LAX_2019-11-15&leg=1&travelers=A1_C0_I0_PH0_PC0\n",
      "https://aeromexico.com/es-mx/reserva/opciones?itinerary=MEX_BCN_2019-11-15&leg=1&travelers=A1_C0_I0_PH0_PC0\n",
      "https://aeromexico.com/es-mx/reserva/opciones?itinerary=MEX_MAD_2019-11-15&leg=1&travelers=A1_C0_I0_PH0_PC0\n",
      "https://aeromexico.com/es-mx/reserva/opciones?itinerary=MEX_YYZ_2019-11-15&leg=1&travelers=A1_C0_I0_PH0_PC0\n",
      "https://aeromexico.com/es-mx/reserva/opciones?itinerary=MEX_MCO_2019-11-15&leg=1&travelers=A1_C0_I0_PH0_PC0\n",
      "https://aeromexico.com/es-mx/reserva/opciones?itinerary=MEX_SFO_2019-11-15&leg=1&travelers=A1_C0_I0_PH0_PC0\n",
      "https://aeromexico.com/es-mx/reserva/opciones?itinerary=MEX_LAS_2019-11-15&leg=1&travelers=A1_C0_I0_PH0_PC0\n",
      "https://aeromexico.com/es-mx/reserva/opciones?itinerary=MEX_MUC_2019-11-15&leg=1&travelers=A1_C0_I0_PH0_PC0\n",
      "https://aeromexico.com/es-mx/reserva/opciones?itinerary=MEX_YUL_2019-11-15&leg=1&travelers=A1_C0_I0_PH0_PC0\n",
      "https://aeromexico.com/es-mx/reserva/opciones?itinerary=MEX_MIA_2019-11-15&leg=1&travelers=A1_C0_I0_PH0_PC0\n",
      "https://aeromexico.com/es-mx/reserva/opciones?itinerary=MEX_DEN_2019-11-15&leg=1&travelers=A1_C0_I0_PH0_PC0\n"
     ]
    }
   ],
   "source": [
    "aeropuertos = [\"CUN\",\"HAV\",\"ORD\",\"JFK\",\"LAX\",\"BCN\",\"MAD\",\"YYZ\",\"MCO\",\"SFO\",\"LAS\",\"MUC\",\"YUL\",\"MIA\",\"DEN\"] \n",
    "urls = []\n",
    "for x in aeropuertos:\n",
    "    amx_url = f\"https://aeromexico.com/es-mx/reserva/opciones?itinerary=MEX_{x}_2019-11-15&leg=1&travelers=A1_C0_I0_PH0_PC0\"\n",
    "    urls.append(amx_url)\n",
    "    print(amx_url)"
   ]
  },
  {
   "cell_type": "code",
   "execution_count": 4,
   "metadata": {},
   "outputs": [
    {
     "name": "stdout",
     "output_type": "stream",
     "text": [
      "appending\n",
      "ok\n",
      "appending\n",
      "ok\n",
      "appending\n",
      "ok\n",
      "appending\n",
      "ok\n",
      "appending\n",
      "ok\n",
      "appending\n",
      "ok\n",
      "appending\n",
      "ok\n",
      "appending\n",
      "ok\n",
      "appending\n",
      "ok\n",
      "appending\n",
      "ok\n",
      "appending\n",
      "ok\n",
      "appending\n",
      "ok\n",
      "appending\n",
      "ok\n",
      "appending\n",
      "ok\n",
      "appending\n"
     ]
    }
   ],
   "source": [
    "amx_data = []\n",
    "\n",
    "for x in urls:\n",
    "    browser.visit(x)\n",
    "    time.sleep(20)\n",
    "    try:\n",
    "        browser.find_by_xpath(\"/html/body/div[2]/div/div/div[1]/div/div[1]/div/div/button\").click()\n",
    "    except:\n",
    "        print(\"ok\")\n",
    "    amx_site = browser.html\n",
    "    amx_soup = bs(amx_site, 'html.parser')\n",
    "    options = amx_soup.find_all('div', class_=\"FlightOptionsListItem\")\n",
    "    print(\"appending\")\n",
    "    amx_data.append(options)"
   ]
  },
  {
   "cell_type": "code",
   "execution_count": 5,
   "metadata": {},
   "outputs": [],
   "source": [
    "precios = []\n",
    "origenes = []\n",
    "destinos = []\n",
    "salidas = []\n",
    "llegadas = []\n",
    "\n",
    "for x in amx_data:\n",
    "    for y in x:\n",
    "        precio = y.find('div', class_='FlightOptionsFare-price')\n",
    "        origen = y.find_all('div', class_='FlightOptionsTimeline-city')\n",
    "        horario = y.find_all('div', class_='FlightOptionsTimeline-time')\n",
    "        try:\n",
    "            precios.append(precio.span.text.replace(\"$\",\"\").replace(\",\",\"\"))\n",
    "            origenes.append(origen[0].text)\n",
    "            destinos.append(origen[1].text)\n",
    "            salidas.append(horario[0])\n",
    "            llegadas.append(horario[1])\n",
    "        except:\n",
    "            continue"
   ]
  },
  {
   "cell_type": "code",
   "execution_count": 6,
   "metadata": {},
   "outputs": [],
   "source": [
    "salidas2 = []\n",
    "\n",
    "for x in salidas:\n",
    "    try:\n",
    "        salidas2.append(x.text)\n",
    "    except:\n",
    "        continue"
   ]
  },
  {
   "cell_type": "code",
   "execution_count": 7,
   "metadata": {},
   "outputs": [],
   "source": [
    "llegadas2 = []\n",
    "\n",
    "for x in llegadas:\n",
    "    try:\n",
    "        llegadas2.append(x.text)\n",
    "    except:\n",
    "        continue"
   ]
  },
  {
   "cell_type": "code",
   "execution_count": 8,
   "metadata": {},
   "outputs": [],
   "source": [
    "df = pd.DataFrame({\n",
    "\"Origen\": origenes,\n",
    "\"Destino\": destinos,\n",
    "\"Hora_Salida\": salidas2,\n",
    "\"Hora_Llegada\": llegadas2,\n",
    "\"Desde\": precios\n",
    "})"
   ]
  },
  {
   "cell_type": "code",
   "execution_count": 9,
   "metadata": {},
   "outputs": [],
   "source": [
    "df[\"Desde\"] = pd.to_numeric(df[\"Desde\"])"
   ]
  },
  {
   "cell_type": "code",
   "execution_count": 10,
   "metadata": {},
   "outputs": [],
   "source": [
    "grouped_df = df.groupby([\"Hora_Salida\",\"Destino\"])\n",
    "amx_grouped = grouped_df.min()"
   ]
  },
  {
   "cell_type": "code",
   "execution_count": 11,
   "metadata": {},
   "outputs": [],
   "source": [
    "amx_grouped.reset_index(inplace=True)"
   ]
  },
  {
   "cell_type": "code",
   "execution_count": null,
   "metadata": {},
   "outputs": [],
   "source": [
    "amx_grouped.to_json(\"amx_json01102019.js\", orient=\"records\")"
   ]
  },
  {
   "cell_type": "code",
   "execution_count": null,
   "metadata": {},
   "outputs": [],
   "source": [
    "amx_grouped.to_csv(\"aeromexico01102019.csv\")"
   ]
  },
  {
   "cell_type": "code",
   "execution_count": 12,
   "metadata": {},
   "outputs": [
    {
     "name": "stdout",
     "output_type": "stream",
     "text": [
      "https://sales.avianca.com/B2C/InicioAmadeus.aspx?cco=MEX&Pais=MX&lan=ES&tv=false&fi=15NOV&FFL=false&ccd=CUN&fr=15NOV&Cabina=0&na=1&nn=0&ni=0&VInt=si&tt=4&ccorp=0&hvi=0&hvr=0&tarifa=0&SistemaOrigen=AH&FriendlyID=&FriendlyIDNegoF=&WS=&MPD=0&IvaMPD=0&descq=0&Device=web\n",
      "https://sales.avianca.com/B2C/InicioAmadeus.aspx?cco=MEX&Pais=MX&lan=ES&tv=false&fi=15NOV&FFL=false&ccd=HAV&fr=15NOV&Cabina=0&na=1&nn=0&ni=0&VInt=si&tt=4&ccorp=0&hvi=0&hvr=0&tarifa=0&SistemaOrigen=AH&FriendlyID=&FriendlyIDNegoF=&WS=&MPD=0&IvaMPD=0&descq=0&Device=web\n",
      "https://sales.avianca.com/B2C/InicioAmadeus.aspx?cco=MEX&Pais=MX&lan=ES&tv=false&fi=15NOV&FFL=false&ccd=ORD&fr=15NOV&Cabina=0&na=1&nn=0&ni=0&VInt=si&tt=4&ccorp=0&hvi=0&hvr=0&tarifa=0&SistemaOrigen=AH&FriendlyID=&FriendlyIDNegoF=&WS=&MPD=0&IvaMPD=0&descq=0&Device=web\n",
      "https://sales.avianca.com/B2C/InicioAmadeus.aspx?cco=MEX&Pais=MX&lan=ES&tv=false&fi=15NOV&FFL=false&ccd=JFK&fr=15NOV&Cabina=0&na=1&nn=0&ni=0&VInt=si&tt=4&ccorp=0&hvi=0&hvr=0&tarifa=0&SistemaOrigen=AH&FriendlyID=&FriendlyIDNegoF=&WS=&MPD=0&IvaMPD=0&descq=0&Device=web\n",
      "https://sales.avianca.com/B2C/InicioAmadeus.aspx?cco=MEX&Pais=MX&lan=ES&tv=false&fi=15NOV&FFL=false&ccd=LAX&fr=15NOV&Cabina=0&na=1&nn=0&ni=0&VInt=si&tt=4&ccorp=0&hvi=0&hvr=0&tarifa=0&SistemaOrigen=AH&FriendlyID=&FriendlyIDNegoF=&WS=&MPD=0&IvaMPD=0&descq=0&Device=web\n",
      "https://sales.avianca.com/B2C/InicioAmadeus.aspx?cco=MEX&Pais=MX&lan=ES&tv=false&fi=15NOV&FFL=false&ccd=BCN&fr=15NOV&Cabina=0&na=1&nn=0&ni=0&VInt=si&tt=4&ccorp=0&hvi=0&hvr=0&tarifa=0&SistemaOrigen=AH&FriendlyID=&FriendlyIDNegoF=&WS=&MPD=0&IvaMPD=0&descq=0&Device=web\n",
      "https://sales.avianca.com/B2C/InicioAmadeus.aspx?cco=MEX&Pais=MX&lan=ES&tv=false&fi=15NOV&FFL=false&ccd=MAD&fr=15NOV&Cabina=0&na=1&nn=0&ni=0&VInt=si&tt=4&ccorp=0&hvi=0&hvr=0&tarifa=0&SistemaOrigen=AH&FriendlyID=&FriendlyIDNegoF=&WS=&MPD=0&IvaMPD=0&descq=0&Device=web\n",
      "https://sales.avianca.com/B2C/InicioAmadeus.aspx?cco=MEX&Pais=MX&lan=ES&tv=false&fi=15NOV&FFL=false&ccd=YYZ&fr=15NOV&Cabina=0&na=1&nn=0&ni=0&VInt=si&tt=4&ccorp=0&hvi=0&hvr=0&tarifa=0&SistemaOrigen=AH&FriendlyID=&FriendlyIDNegoF=&WS=&MPD=0&IvaMPD=0&descq=0&Device=web\n",
      "https://sales.avianca.com/B2C/InicioAmadeus.aspx?cco=MEX&Pais=MX&lan=ES&tv=false&fi=15NOV&FFL=false&ccd=MCO&fr=15NOV&Cabina=0&na=1&nn=0&ni=0&VInt=si&tt=4&ccorp=0&hvi=0&hvr=0&tarifa=0&SistemaOrigen=AH&FriendlyID=&FriendlyIDNegoF=&WS=&MPD=0&IvaMPD=0&descq=0&Device=web\n",
      "https://sales.avianca.com/B2C/InicioAmadeus.aspx?cco=MEX&Pais=MX&lan=ES&tv=false&fi=15NOV&FFL=false&ccd=SFO&fr=15NOV&Cabina=0&na=1&nn=0&ni=0&VInt=si&tt=4&ccorp=0&hvi=0&hvr=0&tarifa=0&SistemaOrigen=AH&FriendlyID=&FriendlyIDNegoF=&WS=&MPD=0&IvaMPD=0&descq=0&Device=web\n",
      "https://sales.avianca.com/B2C/InicioAmadeus.aspx?cco=MEX&Pais=MX&lan=ES&tv=false&fi=15NOV&FFL=false&ccd=LAS&fr=15NOV&Cabina=0&na=1&nn=0&ni=0&VInt=si&tt=4&ccorp=0&hvi=0&hvr=0&tarifa=0&SistemaOrigen=AH&FriendlyID=&FriendlyIDNegoF=&WS=&MPD=0&IvaMPD=0&descq=0&Device=web\n",
      "https://sales.avianca.com/B2C/InicioAmadeus.aspx?cco=MEX&Pais=MX&lan=ES&tv=false&fi=15NOV&FFL=false&ccd=MUC&fr=15NOV&Cabina=0&na=1&nn=0&ni=0&VInt=si&tt=4&ccorp=0&hvi=0&hvr=0&tarifa=0&SistemaOrigen=AH&FriendlyID=&FriendlyIDNegoF=&WS=&MPD=0&IvaMPD=0&descq=0&Device=web\n",
      "https://sales.avianca.com/B2C/InicioAmadeus.aspx?cco=MEX&Pais=MX&lan=ES&tv=false&fi=15NOV&FFL=false&ccd=YUL&fr=15NOV&Cabina=0&na=1&nn=0&ni=0&VInt=si&tt=4&ccorp=0&hvi=0&hvr=0&tarifa=0&SistemaOrigen=AH&FriendlyID=&FriendlyIDNegoF=&WS=&MPD=0&IvaMPD=0&descq=0&Device=web\n",
      "https://sales.avianca.com/B2C/InicioAmadeus.aspx?cco=MEX&Pais=MX&lan=ES&tv=false&fi=15NOV&FFL=false&ccd=MIA&fr=15NOV&Cabina=0&na=1&nn=0&ni=0&VInt=si&tt=4&ccorp=0&hvi=0&hvr=0&tarifa=0&SistemaOrigen=AH&FriendlyID=&FriendlyIDNegoF=&WS=&MPD=0&IvaMPD=0&descq=0&Device=web\n",
      "https://sales.avianca.com/B2C/InicioAmadeus.aspx?cco=MEX&Pais=MX&lan=ES&tv=false&fi=15NOV&FFL=false&ccd=DEN&fr=15NOV&Cabina=0&na=1&nn=0&ni=0&VInt=si&tt=4&ccorp=0&hvi=0&hvr=0&tarifa=0&SistemaOrigen=AH&FriendlyID=&FriendlyIDNegoF=&WS=&MPD=0&IvaMPD=0&descq=0&Device=web\n"
     ]
    }
   ],
   "source": [
    "aeropuertos = [\"CUN\",\"HAV\",\"ORD\",\"JFK\",\"LAX\",\"BCN\",\"MAD\",\"YYZ\",\"MCO\",\"SFO\",\"LAS\",\"MUC\",\"YUL\",\"MIA\",\"DEN\"] \n",
    "urls = []\n",
    "for x in aeropuertos:\n",
    "    amx_url = f\"https://sales.avianca.com/B2C/InicioAmadeus.aspx?cco=MEX&Pais=MX&lan=ES&tv=false&fi=15NOV&FFL=false&ccd={x}&fr=15NOV&Cabina=0&na=1&nn=0&ni=0&VInt=si&tt=4&ccorp=0&hvi=0&hvr=0&tarifa=0&SistemaOrigen=AH&FriendlyID=&FriendlyIDNegoF=&WS=&MPD=0&IvaMPD=0&descq=0&Device=web\"\n",
    "    urls.append(amx_url)\n",
    "    print(amx_url)"
   ]
  },
  {
   "cell_type": "code",
   "execution_count": 13,
   "metadata": {},
   "outputs": [
    {
     "name": "stdout",
     "output_type": "stream",
     "text": [
      "appending\n",
      "appending\n",
      "appending\n",
      "appending\n",
      "appending\n",
      "appending\n",
      "appending\n",
      "appending\n",
      "appending\n",
      "appending\n",
      "appending\n",
      "appending\n",
      "appending\n",
      "appending\n",
      "appending\n"
     ]
    }
   ],
   "source": [
    "avi_prices = []\n",
    "avi_horarios = []\n",
    "\n",
    "for x in urls:\n",
    "    browser.visit(x)\n",
    "    time.sleep(20)\n",
    "    avi_site = browser.html\n",
    "    avi_soup = bs(avi_site, 'html.parser')\n",
    "    avi_prices.append(avi_soup.find_all('div', class_='availability-list-fares'))\n",
    "    avi_horarios.append(avi_soup.find_all('div', class_='flight-details availability-flight-details flight-details-without-button availability-flight-details-without-button row'))\n",
    "    print(\"appending\")"
   ]
  },
  {
   "cell_type": "code",
   "execution_count": 14,
   "metadata": {},
   "outputs": [],
   "source": [
    "precios = []\n",
    "\n",
    "for x in avi_prices:\n",
    "    for y in x:\n",
    "        precios.append(y.find('div', class_='cell-reco-price').span.text.replace(\",\",\"\").replace(\".00\",\"\"))"
   ]
  },
  {
   "cell_type": "code",
   "execution_count": 15,
   "metadata": {},
   "outputs": [],
   "source": [
    "salidas = []\n",
    "llegadas = []\n",
    "origenes = []\n",
    "destinos = []\n",
    "\n",
    "for x in avi_horarios:\n",
    "    for y in x:\n",
    "        salidas.append(y.find('time', class_='time-from').text)\n",
    "        llegadas.append(y.find('time', class_='time-to').text)\n",
    "        origenes.append(y.find('abbr', class_='citycode-from').text.replace(\"(\",\"\").replace(\")\",\"\"))\n",
    "        destinos.append(y.find('abbr', class_='citycode-to').text.replace(\"(\",\"\").replace(\")\",\"\"))"
   ]
  },
  {
   "cell_type": "code",
   "execution_count": 16,
   "metadata": {},
   "outputs": [],
   "source": [
    "df2 = pd.DataFrame({\n",
    "\"Origen\": origenes,\n",
    "\"Destino\": destinos,\n",
    "\"Hora_Salida\": salidas,\n",
    "\"Hora_Llegada\": llegadas,\n",
    "\"Desde\": precios\n",
    "})"
   ]
  },
  {
   "cell_type": "code",
   "execution_count": 17,
   "metadata": {},
   "outputs": [],
   "source": [
    "df2[\"Desde\"] = [literal_eval(x) for x in df2[\"Desde\"]]"
   ]
  },
  {
   "cell_type": "code",
   "execution_count": 18,
   "metadata": {},
   "outputs": [],
   "source": [
    "df2[\"Desde\"] = pd.to_numeric(df2[\"Desde\"])"
   ]
  },
  {
   "cell_type": "code",
   "execution_count": 19,
   "metadata": {},
   "outputs": [],
   "source": [
    "grouped_df2 = df2.groupby([\"Hora_Salida\", \"Destino\"])\n",
    "avi_grouped = grouped_df2.min()"
   ]
  },
  {
   "cell_type": "code",
   "execution_count": 20,
   "metadata": {
    "scrolled": true
   },
   "outputs": [],
   "source": [
    "avi_grouped.reset_index(inplace=True)"
   ]
  },
  {
   "cell_type": "code",
   "execution_count": null,
   "metadata": {},
   "outputs": [],
   "source": [
    "avi_grouped.to_json(\"avi_json01102019.js\", orient=\"records\")"
   ]
  },
  {
   "cell_type": "code",
   "execution_count": null,
   "metadata": {},
   "outputs": [],
   "source": [
    "avi_grouped.to_csv(\"avianca01102019.csv\")"
   ]
  },
  {
   "cell_type": "code",
   "execution_count": 21,
   "metadata": {},
   "outputs": [
    {
     "name": "stdout",
     "output_type": "stream",
     "text": [
      "https://www.united.com/ual/en/MX/flight-search/book-a-flight/results/rev?f=MEX&t=CUN&d=2019-11-15&tt=1&sc=7&px=1&taxng=1&newHP=True&idx=1\n",
      "https://www.united.com/ual/en/MX/flight-search/book-a-flight/results/rev?f=MEX&t=HAV&d=2019-11-15&tt=1&sc=7&px=1&taxng=1&newHP=True&idx=1\n",
      "https://www.united.com/ual/en/MX/flight-search/book-a-flight/results/rev?f=MEX&t=ORD&d=2019-11-15&tt=1&sc=7&px=1&taxng=1&newHP=True&idx=1\n",
      "https://www.united.com/ual/en/MX/flight-search/book-a-flight/results/rev?f=MEX&t=JFK&d=2019-11-15&tt=1&sc=7&px=1&taxng=1&newHP=True&idx=1\n",
      "https://www.united.com/ual/en/MX/flight-search/book-a-flight/results/rev?f=MEX&t=LAX&d=2019-11-15&tt=1&sc=7&px=1&taxng=1&newHP=True&idx=1\n",
      "https://www.united.com/ual/en/MX/flight-search/book-a-flight/results/rev?f=MEX&t=BCN&d=2019-11-15&tt=1&sc=7&px=1&taxng=1&newHP=True&idx=1\n",
      "https://www.united.com/ual/en/MX/flight-search/book-a-flight/results/rev?f=MEX&t=MAD&d=2019-11-15&tt=1&sc=7&px=1&taxng=1&newHP=True&idx=1\n",
      "https://www.united.com/ual/en/MX/flight-search/book-a-flight/results/rev?f=MEX&t=YYZ&d=2019-11-15&tt=1&sc=7&px=1&taxng=1&newHP=True&idx=1\n",
      "https://www.united.com/ual/en/MX/flight-search/book-a-flight/results/rev?f=MEX&t=MCO&d=2019-11-15&tt=1&sc=7&px=1&taxng=1&newHP=True&idx=1\n",
      "https://www.united.com/ual/en/MX/flight-search/book-a-flight/results/rev?f=MEX&t=SFO&d=2019-11-15&tt=1&sc=7&px=1&taxng=1&newHP=True&idx=1\n",
      "https://www.united.com/ual/en/MX/flight-search/book-a-flight/results/rev?f=MEX&t=LAS&d=2019-11-15&tt=1&sc=7&px=1&taxng=1&newHP=True&idx=1\n",
      "https://www.united.com/ual/en/MX/flight-search/book-a-flight/results/rev?f=MEX&t=MUC&d=2019-11-15&tt=1&sc=7&px=1&taxng=1&newHP=True&idx=1\n",
      "https://www.united.com/ual/en/MX/flight-search/book-a-flight/results/rev?f=MEX&t=YUL&d=2019-11-15&tt=1&sc=7&px=1&taxng=1&newHP=True&idx=1\n",
      "https://www.united.com/ual/en/MX/flight-search/book-a-flight/results/rev?f=MEX&t=MIA&d=2019-11-15&tt=1&sc=7&px=1&taxng=1&newHP=True&idx=1\n",
      "https://www.united.com/ual/en/MX/flight-search/book-a-flight/results/rev?f=MEX&t=DEN&d=2019-11-15&tt=1&sc=7&px=1&taxng=1&newHP=True&idx=1\n"
     ]
    }
   ],
   "source": [
    "aeropuertos = [\"CUN\",\"HAV\",\"ORD\",\"JFK\",\"LAX\",\"BCN\",\"MAD\",\"YYZ\",\"MCO\",\"SFO\",\"LAS\",\"MUC\",\"YUL\",\"MIA\",\"DEN\"]\n",
    "urls = []\n",
    "for x in aeropuertos:\n",
    "    ua_url = f\"https://www.united.com/ual/en/MX/flight-search/book-a-flight/results/rev?f=MEX&t={x}&d=2019-11-15&tt=1&sc=7&px=1&taxng=1&newHP=True&idx=1\"\n",
    "    urls.append(ua_url)\n",
    "    print(ua_url)"
   ]
  },
  {
   "cell_type": "code",
   "execution_count": 22,
   "metadata": {},
   "outputs": [
    {
     "name": "stdout",
     "output_type": "stream",
     "text": [
      "appending\n",
      "appending\n",
      "appending\n",
      "appending\n",
      "appending\n",
      "appending\n",
      "appending\n",
      "appending\n",
      "appending\n",
      "appending\n",
      "appending\n",
      "appending\n",
      "appending\n",
      "appending\n",
      "appending\n"
     ]
    }
   ],
   "source": [
    "ua_data = []\n",
    "\n",
    "for x in urls:\n",
    "    browser.visit(\"https://www.united.com/en/mx/\")\n",
    "    time.sleep(5)\n",
    "    browser.visit(x)\n",
    "    time.sleep(20)\n",
    "    united_site = browser.html\n",
    "    united_soup = bs(united_site, 'html.parser')\n",
    "    print(\"appending\")\n",
    "    ua_data.append(united_soup.find_all('li', class_='flight-block flight-block-fares use-roundtrippricing flight-block-revised'))"
   ]
  },
  {
   "cell_type": "code",
   "execution_count": 23,
   "metadata": {},
   "outputs": [],
   "source": [
    "salidas = []\n",
    "llegadas = []\n",
    "origenes = []\n",
    "destinos = []\n",
    "precios = []\n",
    "\n",
    "for x in ua_data:\n",
    "    for y in x:\n",
    "        xx = y.find('div', class_='flight-time flight-time-depart').text\n",
    "        xy = y.find('div', class_='flight-time flight-time-arrive').text\n",
    "        xz = y.find_all('span')\n",
    "        xw = (y.find('div', class_='price-point price-point-revised use-roundtrippricing').text)\n",
    "        salidas.append(re.search(r'\\d{1,2}(:\\d{1,2})', xx).group())\n",
    "        llegadas.append(re.search(r'\\d{1,2}(:\\d{1,2})', xy).group())\n",
    "        origenes.append(xz[1].text)\n",
    "        destinos.append(xz[3].text)\n",
    "        precios.append(xw[25:-17].replace(',',''))"
   ]
  },
  {
   "cell_type": "code",
   "execution_count": 24,
   "metadata": {},
   "outputs": [],
   "source": [
    "precios2 = [x.strip(' ') for x in precios]"
   ]
  },
  {
   "cell_type": "code",
   "execution_count": 25,
   "metadata": {
    "scrolled": true
   },
   "outputs": [],
   "source": [
    "df3 = pd.DataFrame({\n",
    "\"Origen\": origenes,\n",
    "\"Destino\": destinos,\n",
    "\"Hora_Salida\": salidas,\n",
    "\"Hora_Llegada\": llegadas,\n",
    "\"Desde\": precios2\n",
    "})\n",
    "df3[\"Origen\"] = df3[\"Origen\"].str[-4:]\n",
    "df3[\"Destino\"] = df3[\"Destino\"].str[-4:]\n",
    "df3[\"Origen\"] = df3[\"Origen\"].str[:3]\n",
    "df3[\"Destino\"] = df3[\"Destino\"].str[:3]\n",
    "df3[\"Desde\"] = pd.to_numeric(df3[\"Desde\"])\n",
    "df3.dropna(inplace=True)\n",
    "df3[\"Desde\"] = pd.to_numeric(df3[\"Desde\"]).astype('int64')\n",
    "df3[\"Hora_Salida\"] = df3[\"Hora_Salida\"].apply('{0:0>5}'.format)\n",
    "df3[\"Hora_Llegada\"] = df3[\"Hora_Llegada\"].apply('{0:0>5}'.format)"
   ]
  },
  {
   "cell_type": "code",
   "execution_count": 26,
   "metadata": {},
   "outputs": [],
   "source": [
    "grouped_df3 = df3.groupby([\"Hora_Salida\", \"Destino\"])\n",
    "ual_grouped = grouped_df3.min()"
   ]
  },
  {
   "cell_type": "code",
   "execution_count": 27,
   "metadata": {},
   "outputs": [],
   "source": [
    "ual_grouped.reset_index(inplace=True)"
   ]
  },
  {
   "cell_type": "code",
   "execution_count": null,
   "metadata": {},
   "outputs": [],
   "source": [
    "ual_grouped.to_json(\"ual_json01102019.js\", orient=\"records\")"
   ]
  },
  {
   "cell_type": "code",
   "execution_count": null,
   "metadata": {},
   "outputs": [],
   "source": [
    "ual_grouped.to_csv(\"united01102019.csv\")"
   ]
  },
  {
   "cell_type": "code",
   "execution_count": 32,
   "metadata": {},
   "outputs": [],
   "source": [
    "amx_grouped[\"Name\"] = \"AMX\""
   ]
  },
  {
   "cell_type": "code",
   "execution_count": 35,
   "metadata": {},
   "outputs": [
    {
     "data": {
      "text/html": [
       "<div>\n",
       "<style scoped>\n",
       "    .dataframe tbody tr th:only-of-type {\n",
       "        vertical-align: middle;\n",
       "    }\n",
       "\n",
       "    .dataframe tbody tr th {\n",
       "        vertical-align: top;\n",
       "    }\n",
       "\n",
       "    .dataframe thead th {\n",
       "        text-align: right;\n",
       "    }\n",
       "</style>\n",
       "<table border=\"1\" class=\"dataframe\">\n",
       "  <thead>\n",
       "    <tr style=\"text-align: right;\">\n",
       "      <th></th>\n",
       "      <th>Hora_Salida</th>\n",
       "      <th>Destino</th>\n",
       "      <th>Origen</th>\n",
       "      <th>Hora_Llegada</th>\n",
       "      <th>Desde</th>\n",
       "      <th>Name</th>\n",
       "    </tr>\n",
       "  </thead>\n",
       "  <tbody>\n",
       "    <tr>\n",
       "      <th>0</th>\n",
       "      <td>01:15</td>\n",
       "      <td>YUL</td>\n",
       "      <td>MEX</td>\n",
       "      <td>07:25</td>\n",
       "      <td>4396</td>\n",
       "      <td>AMX</td>\n",
       "    </tr>\n",
       "    <tr>\n",
       "      <th>1</th>\n",
       "      <td>06:01</td>\n",
       "      <td>DEN</td>\n",
       "      <td>MEX</td>\n",
       "      <td>15:12</td>\n",
       "      <td>6440</td>\n",
       "      <td>AMX</td>\n",
       "    </tr>\n",
       "    <tr>\n",
       "      <th>2</th>\n",
       "      <td>06:01</td>\n",
       "      <td>JFK</td>\n",
       "      <td>MEX</td>\n",
       "      <td>14:30</td>\n",
       "      <td>16235</td>\n",
       "      <td>AMX</td>\n",
       "    </tr>\n",
       "    <tr>\n",
       "      <th>3</th>\n",
       "      <td>06:01</td>\n",
       "      <td>LAS</td>\n",
       "      <td>MEX</td>\n",
       "      <td>14:14</td>\n",
       "      <td>10821</td>\n",
       "      <td>AMX</td>\n",
       "    </tr>\n",
       "    <tr>\n",
       "      <th>4</th>\n",
       "      <td>06:01</td>\n",
       "      <td>LAX</td>\n",
       "      <td>MEX</td>\n",
       "      <td>10:15</td>\n",
       "      <td>6412</td>\n",
       "      <td>AMX</td>\n",
       "    </tr>\n",
       "  </tbody>\n",
       "</table>\n",
       "</div>"
      ],
      "text/plain": [
       "  Hora_Salida Destino Origen Hora_Llegada  Desde Name\n",
       "0       01:15     YUL    MEX        07:25   4396  AMX\n",
       "1       06:01     DEN    MEX        15:12   6440  AMX\n",
       "2       06:01     JFK    MEX        14:30  16235  AMX\n",
       "3       06:01     LAS    MEX        14:14  10821  AMX\n",
       "4       06:01     LAX    MEX        10:15   6412  AMX"
      ]
     },
     "execution_count": 35,
     "metadata": {},
     "output_type": "execute_result"
    }
   ],
   "source": [
    "amx_grouped.head()"
   ]
  },
  {
   "cell_type": "code",
   "execution_count": 37,
   "metadata": {},
   "outputs": [],
   "source": [
    "avi_grouped[\"Name\"] = \"AVI\""
   ]
  },
  {
   "cell_type": "code",
   "execution_count": 38,
   "metadata": {},
   "outputs": [
    {
     "data": {
      "text/html": [
       "<div>\n",
       "<style scoped>\n",
       "    .dataframe tbody tr th:only-of-type {\n",
       "        vertical-align: middle;\n",
       "    }\n",
       "\n",
       "    .dataframe tbody tr th {\n",
       "        vertical-align: top;\n",
       "    }\n",
       "\n",
       "    .dataframe thead th {\n",
       "        text-align: right;\n",
       "    }\n",
       "</style>\n",
       "<table border=\"1\" class=\"dataframe\">\n",
       "  <thead>\n",
       "    <tr style=\"text-align: right;\">\n",
       "      <th></th>\n",
       "      <th>Hora_Salida</th>\n",
       "      <th>Destino</th>\n",
       "      <th>Origen</th>\n",
       "      <th>Hora_Llegada</th>\n",
       "      <th>Desde</th>\n",
       "      <th>Name</th>\n",
       "    </tr>\n",
       "  </thead>\n",
       "  <tbody>\n",
       "    <tr>\n",
       "      <th>0</th>\n",
       "      <td>04:50</td>\n",
       "      <td>BCN</td>\n",
       "      <td>MEX</td>\n",
       "      <td>12:50</td>\n",
       "      <td>21084</td>\n",
       "      <td>AVI</td>\n",
       "    </tr>\n",
       "    <tr>\n",
       "      <th>1</th>\n",
       "      <td>04:50</td>\n",
       "      <td>DEN</td>\n",
       "      <td>MEX</td>\n",
       "      <td>16:49</td>\n",
       "      <td>19231</td>\n",
       "      <td>AVI</td>\n",
       "    </tr>\n",
       "    <tr>\n",
       "      <th>2</th>\n",
       "      <td>04:50</td>\n",
       "      <td>HAV</td>\n",
       "      <td>MEX</td>\n",
       "      <td>12:00</td>\n",
       "      <td>15680</td>\n",
       "      <td>AVI</td>\n",
       "    </tr>\n",
       "    <tr>\n",
       "      <th>3</th>\n",
       "      <td>04:50</td>\n",
       "      <td>JFK</td>\n",
       "      <td>MEX</td>\n",
       "      <td>01:30</td>\n",
       "      <td>7508</td>\n",
       "      <td>AVI</td>\n",
       "    </tr>\n",
       "    <tr>\n",
       "      <th>4</th>\n",
       "      <td>04:50</td>\n",
       "      <td>LAS</td>\n",
       "      <td>MEX</td>\n",
       "      <td>15:50</td>\n",
       "      <td>20132</td>\n",
       "      <td>AVI</td>\n",
       "    </tr>\n",
       "  </tbody>\n",
       "</table>\n",
       "</div>"
      ],
      "text/plain": [
       "  Hora_Salida Destino Origen Hora_Llegada  Desde Name\n",
       "0       04:50     BCN    MEX        12:50  21084  AVI\n",
       "1       04:50     DEN    MEX        16:49  19231  AVI\n",
       "2       04:50     HAV    MEX        12:00  15680  AVI\n",
       "3       04:50     JFK    MEX        01:30   7508  AVI\n",
       "4       04:50     LAS    MEX        15:50  20132  AVI"
      ]
     },
     "execution_count": 38,
     "metadata": {},
     "output_type": "execute_result"
    }
   ],
   "source": [
    "avi_grouped.head()"
   ]
  },
  {
   "cell_type": "code",
   "execution_count": 39,
   "metadata": {},
   "outputs": [],
   "source": [
    "ual_grouped[\"Name\"] = \"UAL\""
   ]
  },
  {
   "cell_type": "code",
   "execution_count": 49,
   "metadata": {},
   "outputs": [
    {
     "data": {
      "text/html": [
       "<div>\n",
       "<style scoped>\n",
       "    .dataframe tbody tr th:only-of-type {\n",
       "        vertical-align: middle;\n",
       "    }\n",
       "\n",
       "    .dataframe tbody tr th {\n",
       "        vertical-align: top;\n",
       "    }\n",
       "\n",
       "    .dataframe thead th {\n",
       "        text-align: right;\n",
       "    }\n",
       "</style>\n",
       "<table border=\"1\" class=\"dataframe\">\n",
       "  <thead>\n",
       "    <tr style=\"text-align: right;\">\n",
       "      <th></th>\n",
       "      <th>Hora_Salida</th>\n",
       "      <th>Destino</th>\n",
       "      <th>Origen</th>\n",
       "      <th>Hora_Llegada</th>\n",
       "      <th>Desde</th>\n",
       "      <th>Name</th>\n",
       "    </tr>\n",
       "  </thead>\n",
       "  <tbody>\n",
       "    <tr>\n",
       "      <th>0</th>\n",
       "      <td>05:40</td>\n",
       "      <td>DEN</td>\n",
       "      <td>MEX</td>\n",
       "      <td>11:21</td>\n",
       "      <td>234</td>\n",
       "      <td>UAL</td>\n",
       "    </tr>\n",
       "    <tr>\n",
       "      <th>1</th>\n",
       "      <td>05:40</td>\n",
       "      <td>EWR</td>\n",
       "      <td>MEX</td>\n",
       "      <td>14:50</td>\n",
       "      <td>402</td>\n",
       "      <td>UAL</td>\n",
       "    </tr>\n",
       "    <tr>\n",
       "      <th>2</th>\n",
       "      <td>05:40</td>\n",
       "      <td>LAS</td>\n",
       "      <td>MEX</td>\n",
       "      <td>11:19</td>\n",
       "      <td>249</td>\n",
       "      <td>UAL</td>\n",
       "    </tr>\n",
       "    <tr>\n",
       "      <th>3</th>\n",
       "      <td>05:40</td>\n",
       "      <td>LAX</td>\n",
       "      <td>MEX</td>\n",
       "      <td>11:30</td>\n",
       "      <td>332</td>\n",
       "      <td>UAL</td>\n",
       "    </tr>\n",
       "    <tr>\n",
       "      <th>4</th>\n",
       "      <td>05:40</td>\n",
       "      <td>LGA</td>\n",
       "      <td>MEX</td>\n",
       "      <td>16:47</td>\n",
       "      <td>402</td>\n",
       "      <td>UAL</td>\n",
       "    </tr>\n",
       "  </tbody>\n",
       "</table>\n",
       "</div>"
      ],
      "text/plain": [
       "  Hora_Salida Destino Origen Hora_Llegada  Desde Name\n",
       "0       05:40     DEN    MEX        11:21    234  UAL\n",
       "1       05:40     EWR    MEX        14:50    402  UAL\n",
       "2       05:40     LAS    MEX        11:19    249  UAL\n",
       "3       05:40     LAX    MEX        11:30    332  UAL\n",
       "4       05:40     LGA    MEX        16:47    402  UAL"
      ]
     },
     "execution_count": 49,
     "metadata": {},
     "output_type": "execute_result"
    }
   ],
   "source": [
    "ual_grouped.head()"
   ]
  },
  {
   "cell_type": "code",
   "execution_count": 98,
   "metadata": {},
   "outputs": [],
   "source": [
    "df4 = amx_grouped.append(avi_grouped, ignore_index=True)"
   ]
  },
  {
   "cell_type": "code",
   "execution_count": 99,
   "metadata": {},
   "outputs": [],
   "source": [
    "df5 = df4.append(ual_grouped, ignore_index = True)"
   ]
  },
  {
   "cell_type": "code",
   "execution_count": 100,
   "metadata": {},
   "outputs": [
    {
     "data": {
      "text/html": [
       "<div>\n",
       "<style scoped>\n",
       "    .dataframe tbody tr th:only-of-type {\n",
       "        vertical-align: middle;\n",
       "    }\n",
       "\n",
       "    .dataframe tbody tr th {\n",
       "        vertical-align: top;\n",
       "    }\n",
       "\n",
       "    .dataframe thead th {\n",
       "        text-align: right;\n",
       "    }\n",
       "</style>\n",
       "<table border=\"1\" class=\"dataframe\">\n",
       "  <thead>\n",
       "    <tr style=\"text-align: right;\">\n",
       "      <th></th>\n",
       "      <th>Hora_Salida</th>\n",
       "      <th>Destino</th>\n",
       "      <th>Origen</th>\n",
       "      <th>Hora_Llegada</th>\n",
       "      <th>Desde</th>\n",
       "      <th>Name</th>\n",
       "    </tr>\n",
       "  </thead>\n",
       "  <tbody>\n",
       "    <tr>\n",
       "      <th>0</th>\n",
       "      <td>01:15</td>\n",
       "      <td>YUL</td>\n",
       "      <td>MEX</td>\n",
       "      <td>07:25</td>\n",
       "      <td>4396</td>\n",
       "      <td>AMX</td>\n",
       "    </tr>\n",
       "    <tr>\n",
       "      <th>1</th>\n",
       "      <td>06:01</td>\n",
       "      <td>DEN</td>\n",
       "      <td>MEX</td>\n",
       "      <td>15:12</td>\n",
       "      <td>6440</td>\n",
       "      <td>AMX</td>\n",
       "    </tr>\n",
       "    <tr>\n",
       "      <th>2</th>\n",
       "      <td>06:01</td>\n",
       "      <td>JFK</td>\n",
       "      <td>MEX</td>\n",
       "      <td>14:30</td>\n",
       "      <td>16235</td>\n",
       "      <td>AMX</td>\n",
       "    </tr>\n",
       "    <tr>\n",
       "      <th>3</th>\n",
       "      <td>06:01</td>\n",
       "      <td>LAS</td>\n",
       "      <td>MEX</td>\n",
       "      <td>14:14</td>\n",
       "      <td>10821</td>\n",
       "      <td>AMX</td>\n",
       "    </tr>\n",
       "    <tr>\n",
       "      <th>4</th>\n",
       "      <td>06:01</td>\n",
       "      <td>LAX</td>\n",
       "      <td>MEX</td>\n",
       "      <td>10:15</td>\n",
       "      <td>6412</td>\n",
       "      <td>AMX</td>\n",
       "    </tr>\n",
       "  </tbody>\n",
       "</table>\n",
       "</div>"
      ],
      "text/plain": [
       "  Hora_Salida Destino Origen Hora_Llegada  Desde Name\n",
       "0       01:15     YUL    MEX        07:25   4396  AMX\n",
       "1       06:01     DEN    MEX        15:12   6440  AMX\n",
       "2       06:01     JFK    MEX        14:30  16235  AMX\n",
       "3       06:01     LAS    MEX        14:14  10821  AMX\n",
       "4       06:01     LAX    MEX        10:15   6412  AMX"
      ]
     },
     "execution_count": 100,
     "metadata": {},
     "output_type": "execute_result"
    }
   ],
   "source": [
    "df5.head()"
   ]
  },
  {
   "cell_type": "code",
   "execution_count": 101,
   "metadata": {},
   "outputs": [],
   "source": [
    "conditions = [\n",
    "    (df5[\"Destino\"] == \"CUN\"),\n",
    "    (df5[\"Destino\"] == \"HAV\"),\n",
    "    (df5[\"Destino\"] == \"ORD\"),\n",
    "    (df5[\"Destino\"] == \"JFK\"),\n",
    "    (df5[\"Destino\"] == \"LAX\"),\n",
    "    (df5[\"Destino\"] == \"BCN\"),\n",
    "    (df5[\"Destino\"] == \"MAD\"),\n",
    "    (df5[\"Destino\"] == \"YYZ\"),\n",
    "    (df5[\"Destino\"] == \"MCO\"),\n",
    "    (df5[\"Destino\"] == \"SFO\"),\n",
    "    (df5[\"Destino\"] == \"LAS\"),\n",
    "    (df5[\"Destino\"] == \"MUC\"),\n",
    "    (df5[\"Destino\"] == \"YUL\"),\n",
    "    (df5[\"Destino\"] == \"MIA\"),\n",
    "    (df5[\"Destino\"] == \"DEN\"),\n",
    "    (df5[\"Destino\"] == \"YJB\"),\n",
    "    (df5[\"Destino\"] == \"EWR\"),\n",
    "    (df5[\"Destino\"] == \"LGA\")\n",
    "]\n",
    "\n",
    "lat_choices = [21.040358,\n",
    "               22.991455,\n",
    "               41.974166,\n",
    "               40.641235,\n",
    "               33.941562,\n",
    "               41.297781,\n",
    "               40.498324,\n",
    "               43.677764,\n",
    "               28.431205,\n",
    "               37.621313,\n",
    "               36.084026,\n",
    "               48.353598,\n",
    "               45.465610,\n",
    "               25.795814,\n",
    "               39.856121,\n",
    "               41.3789,\n",
    "               40.689588,\n",
    "               40.777065]\n",
    "\n",
    "lon_choices = [-86.873455,\n",
    "               -82.410321,\n",
    "               -87.907300,\n",
    "               -73.778263,\n",
    "               -118.408412,\n",
    "               2.083530,\n",
    "               -3.567469,\n",
    "               -79.624959,\n",
    "               -81.308008,\n",
    "               -122.378988,\n",
    "               -115.153889,\n",
    "               11.775135,\n",
    "               -73.745299,\n",
    "               -80.287169,\n",
    "               -104.673641,\n",
    "               2.1400,\n",
    "               -74.174430,\n",
    "               -73.873987]\n"
   ]
  },
  {
   "cell_type": "code",
   "execution_count": 102,
   "metadata": {},
   "outputs": [],
   "source": [
    "df5[\"Lat\"] = np.select(conditions, lat_choices, default=\"N/A\")"
   ]
  },
  {
   "cell_type": "code",
   "execution_count": 105,
   "metadata": {},
   "outputs": [],
   "source": [
    "df5[\"Lon\"] = np.select(conditions, lon_choices, default=\"N/A\")"
   ]
  },
  {
   "cell_type": "code",
   "execution_count": 109,
   "metadata": {},
   "outputs": [],
   "source": [
    "df5.to_csv(\"consolidated_01102019.csv\")"
   ]
  },
  {
   "cell_type": "code",
   "execution_count": 111,
   "metadata": {},
   "outputs": [],
   "source": [
    "df5.to_json(\"consolidated_json_01102019.js\", orient=\"records\")"
   ]
  },
  {
   "cell_type": "code",
   "execution_count": null,
   "metadata": {},
   "outputs": [],
   "source": []
  }
 ],
 "metadata": {
  "kernelspec": {
   "display_name": "Python 3",
   "language": "python",
   "name": "python3"
  },
  "language_info": {
   "codemirror_mode": {
    "name": "ipython",
    "version": 3
   },
   "file_extension": ".py",
   "mimetype": "text/x-python",
   "name": "python",
   "nbconvert_exporter": "python",
   "pygments_lexer": "ipython3",
   "version": "3.6.8"
  }
 },
 "nbformat": 4,
 "nbformat_minor": 2
}
