{
 "cells": [
  {
   "cell_type": "code",
   "execution_count": 3,
   "metadata": {},
   "outputs": [],
   "source": [
    "import pandas as pd"
   ]
  },
  {
   "cell_type": "code",
   "execution_count": 4,
   "metadata": {},
   "outputs": [],
   "source": [
    "df = pd.read_csv(\"aeromexico01102019.csv\")"
   ]
  },
  {
   "cell_type": "code",
   "execution_count": 8,
   "metadata": {},
   "outputs": [
    {
     "data": {
      "text/html": [
       "<div>\n",
       "<style scoped>\n",
       "    .dataframe tbody tr th:only-of-type {\n",
       "        vertical-align: middle;\n",
       "    }\n",
       "\n",
       "    .dataframe tbody tr th {\n",
       "        vertical-align: top;\n",
       "    }\n",
       "\n",
       "    .dataframe thead th {\n",
       "        text-align: right;\n",
       "    }\n",
       "</style>\n",
       "<table border=\"1\" class=\"dataframe\">\n",
       "  <thead>\n",
       "    <tr style=\"text-align: right;\">\n",
       "      <th></th>\n",
       "      <th>Unnamed: 0</th>\n",
       "      <th>Hora_Salida</th>\n",
       "      <th>Destino</th>\n",
       "      <th>Origen</th>\n",
       "      <th>Hora_Llegada</th>\n",
       "      <th>Desde</th>\n",
       "    </tr>\n",
       "  </thead>\n",
       "  <tbody>\n",
       "    <tr>\n",
       "      <th>0</th>\n",
       "      <td>0</td>\n",
       "      <td>01:15</td>\n",
       "      <td>YUL</td>\n",
       "      <td>MEX</td>\n",
       "      <td>07:25</td>\n",
       "      <td>4396</td>\n",
       "    </tr>\n",
       "    <tr>\n",
       "      <th>1</th>\n",
       "      <td>1</td>\n",
       "      <td>06:01</td>\n",
       "      <td>DEN</td>\n",
       "      <td>MEX</td>\n",
       "      <td>15:12</td>\n",
       "      <td>6440</td>\n",
       "    </tr>\n",
       "    <tr>\n",
       "      <th>2</th>\n",
       "      <td>2</td>\n",
       "      <td>06:01</td>\n",
       "      <td>JFK</td>\n",
       "      <td>MEX</td>\n",
       "      <td>14:30</td>\n",
       "      <td>16235</td>\n",
       "    </tr>\n",
       "    <tr>\n",
       "      <th>3</th>\n",
       "      <td>3</td>\n",
       "      <td>06:01</td>\n",
       "      <td>LAS</td>\n",
       "      <td>MEX</td>\n",
       "      <td>14:14</td>\n",
       "      <td>10821</td>\n",
       "    </tr>\n",
       "    <tr>\n",
       "      <th>4</th>\n",
       "      <td>4</td>\n",
       "      <td>06:01</td>\n",
       "      <td>LAX</td>\n",
       "      <td>MEX</td>\n",
       "      <td>10:15</td>\n",
       "      <td>6412</td>\n",
       "    </tr>\n",
       "  </tbody>\n",
       "</table>\n",
       "</div>"
      ],
      "text/plain": [
       "   Unnamed: 0 Hora_Salida Destino Origen Hora_Llegada  Desde\n",
       "0           0       01:15     YUL    MEX        07:25   4396\n",
       "1           1       06:01     DEN    MEX        15:12   6440\n",
       "2           2       06:01     JFK    MEX        14:30  16235\n",
       "3           3       06:01     LAS    MEX        14:14  10821\n",
       "4           4       06:01     LAX    MEX        10:15   6412"
      ]
     },
     "execution_count": 8,
     "metadata": {},
     "output_type": "execute_result"
    }
   ],
   "source": [
    "df.head()"
   ]
  },
  {
   "cell_type": "code",
   "execution_count": 5,
   "metadata": {},
   "outputs": [],
   "source": [
    "df2 = pd.read_csv(\"avianca01102019.csv\")"
   ]
  },
  {
   "cell_type": "code",
   "execution_count": 9,
   "metadata": {},
   "outputs": [
    {
     "data": {
      "text/html": [
       "<div>\n",
       "<style scoped>\n",
       "    .dataframe tbody tr th:only-of-type {\n",
       "        vertical-align: middle;\n",
       "    }\n",
       "\n",
       "    .dataframe tbody tr th {\n",
       "        vertical-align: top;\n",
       "    }\n",
       "\n",
       "    .dataframe thead th {\n",
       "        text-align: right;\n",
       "    }\n",
       "</style>\n",
       "<table border=\"1\" class=\"dataframe\">\n",
       "  <thead>\n",
       "    <tr style=\"text-align: right;\">\n",
       "      <th></th>\n",
       "      <th>Unnamed: 0</th>\n",
       "      <th>Hora_Salida</th>\n",
       "      <th>Destino</th>\n",
       "      <th>Origen</th>\n",
       "      <th>Hora_Llegada</th>\n",
       "      <th>Desde</th>\n",
       "    </tr>\n",
       "  </thead>\n",
       "  <tbody>\n",
       "    <tr>\n",
       "      <th>0</th>\n",
       "      <td>0</td>\n",
       "      <td>04:50</td>\n",
       "      <td>BCN</td>\n",
       "      <td>MEX</td>\n",
       "      <td>12:50</td>\n",
       "      <td>21084</td>\n",
       "    </tr>\n",
       "    <tr>\n",
       "      <th>1</th>\n",
       "      <td>1</td>\n",
       "      <td>04:50</td>\n",
       "      <td>DEN</td>\n",
       "      <td>MEX</td>\n",
       "      <td>16:49</td>\n",
       "      <td>19231</td>\n",
       "    </tr>\n",
       "    <tr>\n",
       "      <th>2</th>\n",
       "      <td>2</td>\n",
       "      <td>04:50</td>\n",
       "      <td>HAV</td>\n",
       "      <td>MEX</td>\n",
       "      <td>12:00</td>\n",
       "      <td>15680</td>\n",
       "    </tr>\n",
       "    <tr>\n",
       "      <th>3</th>\n",
       "      <td>3</td>\n",
       "      <td>04:50</td>\n",
       "      <td>JFK</td>\n",
       "      <td>MEX</td>\n",
       "      <td>01:30</td>\n",
       "      <td>7508</td>\n",
       "    </tr>\n",
       "    <tr>\n",
       "      <th>4</th>\n",
       "      <td>4</td>\n",
       "      <td>04:50</td>\n",
       "      <td>LAS</td>\n",
       "      <td>MEX</td>\n",
       "      <td>15:50</td>\n",
       "      <td>20132</td>\n",
       "    </tr>\n",
       "  </tbody>\n",
       "</table>\n",
       "</div>"
      ],
      "text/plain": [
       "   Unnamed: 0 Hora_Salida Destino Origen Hora_Llegada  Desde\n",
       "0           0       04:50     BCN    MEX        12:50  21084\n",
       "1           1       04:50     DEN    MEX        16:49  19231\n",
       "2           2       04:50     HAV    MEX        12:00  15680\n",
       "3           3       04:50     JFK    MEX        01:30   7508\n",
       "4           4       04:50     LAS    MEX        15:50  20132"
      ]
     },
     "execution_count": 9,
     "metadata": {},
     "output_type": "execute_result"
    }
   ],
   "source": [
    "df2.head()"
   ]
  },
  {
   "cell_type": "code",
   "execution_count": 6,
   "metadata": {},
   "outputs": [],
   "source": [
    "df3 = df.merge(df2, on=\"Origen\")"
   ]
  },
  {
   "cell_type": "code",
   "execution_count": 7,
   "metadata": {},
   "outputs": [
    {
     "data": {
      "text/html": [
       "<div>\n",
       "<style scoped>\n",
       "    .dataframe tbody tr th:only-of-type {\n",
       "        vertical-align: middle;\n",
       "    }\n",
       "\n",
       "    .dataframe tbody tr th {\n",
       "        vertical-align: top;\n",
       "    }\n",
       "\n",
       "    .dataframe thead th {\n",
       "        text-align: right;\n",
       "    }\n",
       "</style>\n",
       "<table border=\"1\" class=\"dataframe\">\n",
       "  <thead>\n",
       "    <tr style=\"text-align: right;\">\n",
       "      <th></th>\n",
       "      <th>Unnamed: 0_x</th>\n",
       "      <th>Hora_Salida_x</th>\n",
       "      <th>Destino_x</th>\n",
       "      <th>Origen</th>\n",
       "      <th>Hora_Llegada_x</th>\n",
       "      <th>Desde_x</th>\n",
       "      <th>Unnamed: 0_y</th>\n",
       "      <th>Hora_Salida_y</th>\n",
       "      <th>Destino_y</th>\n",
       "      <th>Hora_Llegada_y</th>\n",
       "      <th>Desde_y</th>\n",
       "    </tr>\n",
       "  </thead>\n",
       "  <tbody>\n",
       "  </tbody>\n",
       "</table>\n",
       "</div>"
      ],
      "text/plain": [
       "Empty DataFrame\n",
       "Columns: [Unnamed: 0_x, Hora_Salida_x, Destino_x, Origen, Hora_Llegada_x, Desde_x, Unnamed: 0_y, Hora_Salida_y, Destino_y, Hora_Llegada_y, Desde_y]\n",
       "Index: []"
      ]
     },
     "execution_count": 7,
     "metadata": {},
     "output_type": "execute_result"
    }
   ],
   "source": [
    "df3"
   ]
  },
  {
   "cell_type": "code",
   "execution_count": null,
   "metadata": {},
   "outputs": [],
   "source": []
  }
 ],
 "metadata": {
  "kernelspec": {
   "display_name": "Python 3",
   "language": "python",
   "name": "python3"
  },
  "language_info": {
   "codemirror_mode": {
    "name": "ipython",
    "version": 3
   },
   "file_extension": ".py",
   "mimetype": "text/x-python",
   "name": "python",
   "nbconvert_exporter": "python",
   "pygments_lexer": "ipython3",
   "version": "3.6.8"
  }
 },
 "nbformat": 4,
 "nbformat_minor": 2
}
